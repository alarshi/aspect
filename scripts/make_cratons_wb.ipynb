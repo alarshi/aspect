{
 "cells": [
  {
   "cell_type": "code",
   "execution_count": 1,
   "id": "19e9d8ce",
   "metadata": {},
   "outputs": [],
   "source": [
    "import json\n",
    "import os\n",
    "import pandas as pd\n",
    "import numpy as np\n",
    "import warnings\n",
    "warnings.filterwarnings(\"error\")\n",
    "import matplotlib.pyplot as plt"
   ]
  },
  {
   "cell_type": "code",
   "execution_count": 2,
   "id": "14164745",
   "metadata": {},
   "outputs": [],
   "source": [
    "# This cell prints the number of line segments defining cratons in the input\n",
    "# file smac_cratons_coordinates.txt digitized from the paper by Nataf and \n",
    "# Richard, Physics of the Earth and Planetary Interiors, 1996.   \n",
    "# In the input file, \">\" separates the coordinates of the polygon representing\n",
    "# cratons. We use the \">\" separator in awk to find out number of line segments\n",
    "# which are the number of cratons for the worldbuilder.\n",
    "craton_file_name  = \"smac_cratons_coordinates.txt\"\n",
    "process           = os.popen('''awk 'BEGIN {RS=\">\"} END{print NR}' ''' + craton_file_name)\n",
    "number_of_cratons = process.read()\n",
    "number_of_cratons = int(number_of_cratons)\n",
    "process.close()"
   ]
  },
  {
   "cell_type": "code",
   "execution_count": 33,
   "id": "a05d2e13",
   "metadata": {},
   "outputs": [],
   "source": [
    "# This function defines the characteristics of the input cratons such as the \n",
    "# name, coordinates (used from the input file), and depth \n",
    "# to make sure they are defined appropriately for our global models.\n",
    "def make_continental_json(name, coordinates):\n",
    "    out = {\n",
    "    \"model\": \"continental plate\",\n",
    "    \"name\": name,\n",
    "    \"coordinates\": coordinates,\n",
    "    \"min depth\": -1e3,\n",
    "    \"max depth\": 300e3,\n",
    "\n",
    "    # temperature, composition, etc. would go here\"\n",
    "    # max depth chosen as the max continental plate thickness\n",
    "    # hard coded the composition here\n",
    "    \"composition models\": [{\"model\":\"uniform\", \"compositions\":[5]}]\n",
    "\n",
    "     }\n",
    "    return out"
   ]
  },
  {
   "cell_type": "code",
   "execution_count": 34,
   "id": "575794b4",
   "metadata": {},
   "outputs": [],
   "source": [
    "#--------------------------------------------------------------------\n",
    "# This cell formats data so that the input coordinates are strings \n",
    "# in a list with each list item correspoding to 'long lat'.\n",
    "# Awk initializes with 1 unlike python which has zero-index numbering. \n",
    "# The first record does not exist, therefore start with the 2 until \n",
    "# the number of faults + 1 for calling line segments in awk.\n",
    "# After formatting the coordinates from the input file, we store each\n",
    "# feature according to the make_continental_json() function to get\n",
    "# polygons defining the cratons as needed in the world builder format.\n",
    "#--------------------------------------------------------------------\n",
    "\n",
    "craton_coordinates = []\n",
    "all_cratons_json = []\n",
    "\n",
    "for i in range (2, number_of_cratons + 1):\n",
    "    process = os.popen('''awk 'BEGIN {FS=\" \"; OFS=\",\"; RS=\">\"} {$1=$1}1 {if (NR==%s) print $0}' ''' \\\n",
    "                  % (str(i)) + craton_file_name)\n",
    "    coordinates = process.read()\n",
    "    process.close()\n",
    "    # This is modification of the input strings in the coordinates to floats.\n",
    "    coordinates_list   = (coordinates.rstrip('\\n')).split(',')  \n",
    "    list_of_floats     = [float(item) for item in coordinates_list]\n",
    "    longitudes         = list_of_floats[0::2]\n",
    "    longitudes_array   = np.array(longitudes)\n",
    "    latitudes          = list_of_floats[1::2]\n",
    "    coordinates_array  = [[longitudes[n],latitudes[n]] for n in range(len(longitudes))]\n",
    "    \n",
    "    all_cratons_json.append(make_continental_json('craton_' + str(i), coordinates_array))"
   ]
  },
  {
   "cell_type": "code",
   "execution_count": 35,
   "id": "37533962",
   "metadata": {},
   "outputs": [],
   "source": [
    "# We add the fault features to the cratons because we want to include both plate boundaries\n",
    "# and cratons. The parameter below defines which existing plate boundary model to use. \n",
    "wb_faults_file_name = '../input_data/world_builder_nuvel_boundaries.json'\n",
    "\n",
    "with open(wb_faults_file_name) as f:\n",
    "    gg = json.load(f)\n",
    "\n",
    "faults = gg['features']\n",
    "faults = [f for f in faults]"
   ]
  },
  {
   "cell_type": "code",
   "execution_count": 36,
   "id": "024ab262",
   "metadata": {},
   "outputs": [],
   "source": [
    "# This cell adds all the faults in 'features' that already contains the cratons\n",
    "for fault in faults:\n",
    "    all_cratons_json.append(fault)"
   ]
  },
  {
   "cell_type": "code",
   "execution_count": 41,
   "id": "e3fd45a8",
   "metadata": {},
   "outputs": [],
   "source": [
    "all_features_json = {\n",
    "    \"version\": \"0.5\",\n",
    "    \"interpolation\": \"continuous monotone spline\",\n",
    "    \"coordinate system\":{\"model\":\"spherical\", \"depth method\":\"starting point\"},\n",
    "    \"features\": all_cratons_json\n",
    "}"
   ]
  },
  {
   "cell_type": "code",
   "execution_count": 43,
   "id": "cb228984",
   "metadata": {},
   "outputs": [],
   "source": [
    "with open(\"../input_data/world_builder_smac_cratons_faults.json\", \"w\") as f:\n",
    "    json.dump(all_features_json, f)"
   ]
  }
 ],
 "metadata": {
  "kernelspec": {
   "display_name": "Python 3 (ipykernel)",
   "language": "python",
   "name": "python3"
  },
  "language_info": {
   "codemirror_mode": {
    "name": "ipython",
    "version": 3
   },
   "file_extension": ".py",
   "mimetype": "text/x-python",
   "name": "python",
   "nbconvert_exporter": "python",
   "pygments_lexer": "ipython3",
   "version": "3.8.8"
  }
 },
 "nbformat": 4,
 "nbformat_minor": 5
}

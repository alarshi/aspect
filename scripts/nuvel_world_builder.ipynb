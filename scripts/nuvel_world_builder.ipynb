{
 "cells": [
  {
   "cell_type": "markdown",
   "id": "5cf65f67",
   "metadata": {},
   "source": [
    "This notebook is used to create a World builder file for nuvel plate boundaries (Argus and Gordon, 1991). We use an input file, nuvel_plates.txt which contains line segments describig the plate boundaries."
   ]
  },
  {
   "cell_type": "code",
   "execution_count": 3,
   "id": "fd051d40",
   "metadata": {},
   "outputs": [],
   "source": [
    "import json\n",
    "import os\n",
    "import numpy as np"
   ]
  },
  {
   "cell_type": "code",
   "execution_count": 2,
   "id": "b81125df",
   "metadata": {},
   "outputs": [],
   "source": [
    "# This cell prints the number of line segments in the input nuvel_faults.txt \n",
    "# downloaded from https://www.earthbyte.org/plate-boundaries/ .\n",
    "# In the input file, \">\" separates the line segments and we use that separator\n",
    "# in awk to find out number of line segments which are the number of faults for \n",
    "# the worldbuilder.\n",
    "\n",
    "file_name        = \"nuvel_plates.txt\"\n",
    "number_of_faults = os.popen('''awk 'BEGIN {RS=\">\"} END{print NR}' ''' + file_name).read()\n",
    "number_of_faults = int(number_of_faults)"
   ]
  },
  {
   "cell_type": "code",
   "execution_count": 4,
   "id": "070b76ae",
   "metadata": {},
   "outputs": [],
   "source": [
    "# This function defines the characteristics of the input faults such as the \n",
    "# name, coordinates (used from the input file), dip (vertical), thickness\n",
    "# and length are defined appropriately for our global models.\n",
    "def make_fault_json(fault_name, coordinates):\n",
    "    fault_json = {}\n",
    "    fault_json['geometry'] = {}\n",
    "    \n",
    "    out = {\n",
    "    \"model\": \"fault\",\n",
    "    \"name\": fault_name,\n",
    "    \"coordinates\": coordinates,\n",
    "    \"dip point\": [0, 1], #get_dip_point(feat),\n",
    "    \"min depth\": -1e3,\n",
    "    \"max depth\": 300e3,\n",
    "    \"segments\": [\n",
    "        {\n",
    "            \"length\": 300e3,\n",
    "            \"thickness\": [100e3],\n",
    "            \"angle\": [90, 90] \n",
    "        }\n",
    "    ],\n",
    "        \n",
    "    # temperature, composition, etc. would go here\"\n",
    "    # max depth chosen as the max continental plate thickness\n",
    "    # hard coded the composition here\n",
    "    \"composition models\": [{\"model\":\"smooth\", \"compositions\":4, \"side distance fault center\":50e3}] \n",
    "     }\n",
    "    \n",
    "    return out"
   ]
  },
  {
   "cell_type": "code",
   "execution_count": 16,
   "id": "6da1ff33",
   "metadata": {},
   "outputs": [],
   "source": [
    "#--------------------------------------------------------------------\n",
    "# This cell formats data so that the input coordinates are strings \n",
    "# in a list with each list item correspoding to 'long lat'.\n",
    "# Awk initializes with 1 unlike python which has zero-index numbering. \n",
    "# The first record does not exist, therefore start with the 2 until \n",
    "# the number of faults + 1 for calling line segments in awk.\n",
    "# After formatting the coordinates from the input file, we store each\n",
    "# fault feature according to the make_fault_json() function to get\n",
    "# faults as needed in the world builder format\n",
    "#--------------------------------------------------------------------\n",
    "\n",
    "faults_coordinates = []\n",
    "all_faults_json = []\n",
    "\n",
    "for i in range (2, number_of_faults + 1):\n",
    "\n",
    "    faults_coordinates = os.popen('''awk 'BEGIN {FS=\" \"; OFS=\",\"; RS=\">\"} {$1=$1}1 {if (NR==%s) print $0}' ''' \\\n",
    "                         % (str(i)) + file_name).read()\n",
    "    # This is modification of the input strings in the coordinates to floats.\n",
    "    coordinates_list   = (faults_coordinates.rstrip('\\n')).split(',')  \n",
    "    list_of_floats     = [float(item) for item in coordinates_list]\n",
    "    # Since we want to modify the longitudes to -180 to 180 for world builder,\n",
    "    # we separate the latitudes and longitudes. The first value is the longitude\n",
    "    # and use the value after every 2 values to get all the longitudes from the \n",
    "    # longitude, latitude pair.\n",
    "    longitudes         = list_of_floats[0::2]\n",
    "    latitudes          = list_of_floats[1::2]\n",
    "    longitudes_array   = np.array(longitudes)\n",
    "    \n",
    "     # We do this to join the faults on the other side of the great circle\n",
    "    if (i == 31 or i == 21 or i == 20):\n",
    "        longitudes_array [longitudes_array < 180] = longitudes_array [longitudes_array < 180] - 360\n",
    "        \n",
    "    # Convert longitudes to -180 and 180 from 0 to 360.\n",
    "    longitudes_array [longitudes_array >= 180] = longitudes_array[longitudes_array >= 180] - 360\n",
    "    \n",
    "    # These are the desired formatted coordinates for each fault segment\n",
    "    coordinates_array  = [[longitudes_array[n],latitudes[n]] for n in range(len(longitudes))] \n",
    "    \n",
    "    all_faults_json.append(make_fault_json('fault_' + str(i), coordinates_array))"
   ]
  },
  {
   "cell_type": "code",
   "execution_count": 17,
   "id": "46636586",
   "metadata": {},
   "outputs": [],
   "source": [
    "# This code cell adds the header of the worldbuilder file, and the next cell writes \n",
    "# everything into the worldbuilder file.\n",
    "all_faults_json = {\n",
    "    \"version\": \"0.5\",\n",
    "    \"interpolation\": \"continuous monotone spline\",\n",
    "    \"coordinate system\":{\"model\":\"spherical\", \"depth method\":\"starting point\"},\n",
    "    \"features\": all_faults_json\n",
    "}"
   ]
  },
  {
   "cell_type": "code",
   "execution_count": 18,
   "id": "aa5d0858",
   "metadata": {},
   "outputs": [],
   "source": [
    "with open(\"./world_builder_nuvel_boundaries.json\", \"w\") as f:\n",
    "    json.dump(all_faults_json, f)"
   ]
  },
  {
   "cell_type": "code",
   "execution_count": 5,
   "id": "6bec1888",
   "metadata": {},
   "outputs": [],
   "source": [
    "#-----------------------------------------------------------------------------------\n",
    "# The next 3 code cells are relevant for using different compositions at the ridges \n",
    "# and trenches. We manually use the index for each ridge and trench line segment \n",
    "# in the input nuvel_faults.txt file and use those indices to modify the composition\n",
    "# in the generated world builder file. The modified composition allows us to assign\n",
    "# different viscosity at the ridges and trenches. Transform faults are also part of\n",
    "# ridges in our case.\n",
    "#-----------------------------------------------------------------------------------\n",
    "ridge_numbers  = [2, 4, 5, 8, 9, 10, 11, 12, 13, 14, 15, 17, 21, 22, 24, 25, 20, 32]\n",
    "trench_numbers = [3, 6, 7, 16, 18, 19, 20, 23, 26, 27, 28, 29, 31, 33, 34, 35, 36, 37]"
   ]
  },
  {
   "cell_type": "code",
   "execution_count": 8,
   "id": "ed008a71",
   "metadata": {},
   "outputs": [],
   "source": [
    "file_name = \"./world_builder_nuvel_boundaries.json\"\n",
    "with open(file_name) as f:\n",
    "    gg = json.load(f)"
   ]
  },
  {
   "cell_type": "code",
   "execution_count": 41,
   "id": "ee9d611b",
   "metadata": {},
   "outputs": [],
   "source": [
    "for i in range (2, number_of_faults + 1):\n",
    "    fault_name = 'fault_' + str(i)\n",
    "    if (i in ridge_numbers):\n",
    "        gg['features'][i-2]['composition models'][0]['compositions'] = 4\n",
    "    if (i in trench_numbers):\n",
    "        gg['features'][i-2]['composition models'][0]['compositions'] = 5"
   ]
  },
  {
   "cell_type": "code",
   "execution_count": 43,
   "id": "2aae4dc6",
   "metadata": {},
   "outputs": [],
   "source": [
    "with open(\"./world_builder_nuvel_ridges_trenches_boundaries.json\", \"w\") as f:\n",
    "    json.dump(gg, f)"
   ]
  }
 ],
 "metadata": {
  "kernelspec": {
   "display_name": "Python 3 (ipykernel)",
   "language": "python",
   "name": "python3"
  },
  "language_info": {
   "codemirror_mode": {
    "name": "ipython",
    "version": 3
   },
   "file_extension": ".py",
   "mimetype": "text/x-python",
   "name": "python",
   "nbconvert_exporter": "python",
   "pygments_lexer": "ipython3",
   "version": "3.8.8"
  }
 },
 "nbformat": 4,
 "nbformat_minor": 5
}

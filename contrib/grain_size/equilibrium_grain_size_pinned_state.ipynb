{
 "cells": [
  {
   "cell_type": "code",
   "execution_count": 4,
   "metadata": {},
   "outputs": [],
   "source": [
    "import numpy as np"
   ]
  },
  {
   "cell_type": "code",
   "execution_count": 5,
   "metadata": {},
   "outputs": [],
   "source": [
    "# define constants here\n",
    "q                       = 4.\n",
    "grain_growth_prefactor  = 1.6e-22\n",
    "grain_growth_activation = 39072\n",
    "f1                      = 1e-6\n",
    "phase_distribution      = 0.6*0.4\n",
    "\n",
    "hg         = (2/np.pi)*(2/np.pi)\n",
    "R_times_T  = 8.314*1600"
   ]
  },
  {
   "cell_type": "markdown",
   "metadata": {},
   "source": [
    "In steady state, we can compute equilibrium grain size in the pinned state using Eq. 8 of Mulyukova and Bercovici (2018): \n",
    "\n",
    "\\begin{equation}\n",
    "0 = \\frac {3\\eta_gk_g\\sqrt h_g^{-q}}{(q R^{q-1})} \\exp(\\frac{-E_g}{R_gT})  - \\frac{f \\sqrt h_g \\Psi}{(3\\eta_g)} R^2\n",
    "\\end{equation}\n",
    "\n",
    "Here, $\\eta_g$ is phase distribution function and $\\sqrt{h_g} = 2/\\pi$. The shear heating term $\\Psi$ is $2\\dot\\varepsilon\\tau$, where $\\tau = 2 \\eta \\dot\\varepsilon$, therefore, $\\Psi = 4 \\eta \\dot\\varepsilon ^2$\n",
    "\n",
    "Combining the prefactors of R (grain_size) into one such that the above equation can be written as :\n",
    "\n",
    "\\begin{equation}\n",
    "0 = \\frac{\\text{grain_growth_term}}{R^{(q-1)}} - \\text{grain_reduction_term}*R^2\n",
    "\\end{equation}\n",
    "\n",
    "Rearranging the above equation:\n",
    "\n",
    "\\begin{equation}\n",
    "R = \\left(\\frac{\\text{grain_growth_term}}{\\text{grain_reduction_term}}\\right)^{\\frac{1}{q+1}}\n",
    "\\end{equation}\n"
   ]
  },
  {
   "cell_type": "code",
   "execution_count": 6,
   "metadata": {},
   "outputs": [],
   "source": [
    "def equilibrium_grain_size (viscosity, q):\n",
    "    \n",
    "    shear_heating = 4*strain_rate*strain_rate*viscosity\n",
    "    \n",
    "    grain_reduction_term = f1*np.sqrt(hg)*shear_heating/(3*phase_distribution)\n",
    "    \n",
    "    grain_growth_term    = (hg**(-q/2) * 3 * phase_distribution * grain_growth_prefactor * \\\n",
    "                                 np.exp(-grain_growth_activation/R_times_T))/q\n",
    "    \n",
    "    return (grain_growth_term/grain_reduction_term)**(1/(q+1))"
   ]
  },
  {
   "cell_type": "markdown",
   "metadata": {},
   "source": [
    "\\begin{equation}\n",
    "\\eta = \\frac{1}{2} A^{\\frac{-1}{n}} \\dot\\varepsilon^{1/n - 1} \\exp{\\frac{-E_d}{nR_gT}}\n",
    "\\end{equation}"
   ]
  },
  {
   "cell_type": "code",
   "execution_count": 7,
   "metadata": {},
   "outputs": [],
   "source": [
    "# In our test case of simple shear, we apply vx = y/10^5 per year and vy = 0. Therefore, we only have the yx \n",
    "# component of the strain rate tensor = 1/2*(vx/y) or 1/2*(1/10^5) per year.\n",
    "\n",
    "strain_rate            = (1e-5/(3600*24*365.25))/2\n",
    "dislocation_prefactor  = 1e-13\n",
    "dislocation_activation = 390720\n",
    "stress_exponent        = 3\n",
    "\n",
    "dislocation_viscosity = (dislocation_prefactor)**(-1/stress_exponent)*strain_rate**(1/stress_exponent - 1) \\\n",
    "                        *np.exp(dislocation_activation/(stress_exponent*R_times_T))"
   ]
  },
  {
   "cell_type": "code",
   "execution_count": 8,
   "metadata": {},
   "outputs": [
    {
     "data": {
      "text/plain": [
       "0.01514333107543764"
      ]
     },
     "execution_count": 8,
     "metadata": {},
     "output_type": "execute_result"
    }
   ],
   "source": [
    "equilibrium_grain_size (dislocation_viscosity, 4)"
   ]
  },
  {
   "cell_type": "code",
   "execution_count": 11,
   "metadata": {},
   "outputs": [],
   "source": [
    "# aspect values\n",
    "shear_heating = 1.3194e-08\n",
    "grain_reduction1 = 1.16823e-14\n",
    "grain_growth1 = 9.24506e-24\n",
    "equilibrium_grain_size1 = (grain_growth1/grain_reduction1)**(1/5)"
   ]
  },
  {
   "cell_type": "code",
   "execution_count": 12,
   "metadata": {},
   "outputs": [
    {
     "data": {
      "text/plain": [
       "(0.015124334567182221, 0.01514333107543764)"
      ]
     },
     "execution_count": 12,
     "metadata": {},
     "output_type": "execute_result"
    }
   ],
   "source": [
    "equilibrium_grain_size1, equilibrium_grain_size (dislocation_viscosity, 4)"
   ]
  },
  {
   "cell_type": "code",
   "execution_count": null,
   "metadata": {},
   "outputs": [],
   "source": []
  }
 ],
 "metadata": {
  "kernelspec": {
   "display_name": "Python 3",
   "language": "python",
   "name": "python3"
  },
  "language_info": {
   "codemirror_mode": {
    "name": "ipython",
    "version": 3
   },
   "file_extension": ".py",
   "mimetype": "text/x-python",
   "name": "python",
   "nbconvert_exporter": "python",
   "pygments_lexer": "ipython3",
   "version": "3.6.5"
  }
 },
 "nbformat": 4,
 "nbformat_minor": 2
}

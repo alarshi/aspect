{
 "cells": [
  {
   "cell_type": "code",
   "execution_count": 1,
   "metadata": {},
   "outputs": [],
   "source": [
    "import numpy as np\n",
    "import matplotlib.pyplot as plt"
   ]
  },
  {
   "cell_type": "markdown",
   "metadata": {},
   "source": [
    "In the steady state system (Zenner pinning $\\rightarrow$ 0), mean grain size $\\bar{R}$ (Appendix H.1 in Bercovici and Richard, 2012):\n",
    "\n",
    "$\\bar{R} = \\Sigma_i \\phi_i R_i  \\approx cr$, where $c = \\Sigma_i \\phi_i / \\sqrt{h_i}$ and $r$ is interface coarseness and $h_i = c_1 (1 - \\phi_i)$ (Eq. 18)"
   ]
  },
  {
   "cell_type": "code",
   "execution_count": 2,
   "metadata": {},
   "outputs": [],
   "source": [
    "def mean_grain_size_to_roughness_factor (phi1):\n",
    "    h1   = c1 * (1 - phi1)\n",
    "    \n",
    "    phi2 = 1 - phi1\n",
    "    h2   = c1 * (1 - phi2)\n",
    "    \n",
    "    return phi1 / np.sqrt(h1) + phi2 / np.sqrt(h2)"
   ]
  },
  {
   "cell_type": "markdown",
   "metadata": {},
   "source": [
    "From Eq. 8:\n",
    "\n",
    "\\begin{equation}\n",
    "c_n = \\frac {3b_n\\lambda_{n+3}} {2(n+3)\\lambda_2}\n",
    "\\end{equation}\n",
    "\n",
    "where $\\lambda_n = \\exp ({n^2 \\sigma^2/2})$ and $\\sigma = 0.8$\n",
    "\n",
    "Based on their fit to the experimental data, linear law (n=1) gives best results.\n",
    "\n",
    "\\begin{equation}\n",
    "c_1 = \\frac {3b_1\\lambda_{4}} {8\\lambda_2}\n",
    "\\end{equation}\n",
    "\n",
    "and $b_1 = 1/20$ from Appendix F.28"
   ]
  },
  {
   "cell_type": "code",
   "execution_count": 3,
   "metadata": {},
   "outputs": [],
   "source": [
    "# define some constants here\n",
    "b1    = 1/20.\n",
    "sigma = 0.8"
   ]
  },
  {
   "cell_type": "code",
   "execution_count": 4,
   "metadata": {},
   "outputs": [
    {
     "data": {
      "text/plain": [
       "0.8723526457460483"
      ]
     },
     "execution_count": 4,
     "metadata": {},
     "output_type": "execute_result"
    }
   ],
   "source": [
    "def get_lambda (n):\n",
    "    return np.exp((n**2 * sigma**2)/2)\n",
    "\n",
    "c1 = (3 * b1 * get_lambda(4))/(8 * get_lambda (2))\n",
    "c1"
   ]
  },
  {
   "cell_type": "markdown",
   "metadata": {},
   "source": [
    "The computed value of c1 (0.87) is similar to the one given in Bercovici and Richard (2014) in Eq. 14."
   ]
  },
  {
   "cell_type": "code",
   "execution_count": 5,
   "metadata": {},
   "outputs": [
    {
     "data": {
      "text/plain": [
       "(1.5686123064338635, 1.5707963267948966)"
      ]
     },
     "execution_count": 5,
     "metadata": {},
     "output_type": "execute_result"
    }
   ],
   "source": [
    "mean_grain_size_to_roughness_factor(0.6), (np.pi/2)"
   ]
  },
  {
   "cell_type": "code",
   "execution_count": 47,
   "metadata": {},
   "outputs": [],
   "source": [
    "phi = np.array ([0.03, 0.09, 0.15, 0.24, 0.34, 0.42])\n",
    "R   = get_mean_grain_size (phi, 1 - phi) "
   ]
  },
  {
   "cell_type": "code",
   "execution_count": 48,
   "metadata": {},
   "outputs": [
    {
     "data": {
      "text/plain": [
       "[<matplotlib.lines.Line2D at 0x7f365655a128>]"
      ]
     },
     "execution_count": 48,
     "metadata": {},
     "output_type": "execute_result"
    },
    {
     "data": {
      "image/png": "[encoded data removed]",
      "text/plain": [
       "<Figure size 432x288 with 1 Axes>"
      ]
     },
     "metadata": {},
     "output_type": "display_data"
    }
   ],
   "source": [
    "plt.rcParams.update({'font.size': 18})\n",
    "plt.plot(phi, R, '-o')"
   ]
  }
 ],
 "metadata": {
  "kernelspec": {
   "display_name": "Python 3 (ipykernel)",
   "language": "python",
   "name": "python3"
  },
  "language_info": {
   "codemirror_mode": {
    "name": "ipython",
    "version": 3
   },
   "file_extension": ".py",
   "mimetype": "text/x-python",
   "name": "python",
   "nbconvert_exporter": "python",
   "pygments_lexer": "ipython3",
   "version": "3.8.8"
  }
 },
 "nbformat": 4,
 "nbformat_minor": 2
}
